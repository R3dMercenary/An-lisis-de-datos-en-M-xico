{
  "nbformat": 4,
  "nbformat_minor": 0,
  "metadata": {
    "colab": {
      "provenance": [],
      "authorship_tag": "ABX9TyO/J/MmrG+Z/Siw8jxyyO2L",
      "include_colab_link": true
    },
    "kernelspec": {
      "name": "python3",
      "display_name": "Python 3"
    },
    "language_info": {
      "name": "python"
    }
  },
  "cells": [
    {
      "cell_type": "markdown",
      "metadata": {
        "id": "view-in-github",
        "colab_type": "text"
      },
      "source": [
        "<a href=\"https://colab.research.google.com/github/R3dMercenary/An-lisis-de-datos-en-M-xico/blob/main/An%C3%A1lisis_de_homicidios_en_Sonora%2CSinaloa%2CJalisco.ipynb\" target=\"_parent\"><img src=\"https://colab.research.google.com/assets/colab-badge.svg\" alt=\"Open In Colab\"/></a>"
      ]
    },
    {
      "cell_type": "markdown",
      "source": [
        "**Instrucciones**:\n",
        "\n",
        "El objetivo de este trabajo es implementar un script que permita el análisis de datos a partir de una base de datos en MySQL o SQLite. Para su desarrollo se requiere la implementación de una base de datos que contenga información relacionada con un tema de interés de quien desarrolla el proyecto.\n",
        "El código del proyecto deberá estar disponible en una plataforma de control de versiones, como GitHub, para facilitar la colaboración y seguimiento del progreso.\n",
        "\n",
        "**Requisitos del proyecto:**\n",
        "\n",
        "Implementación de la base de datos que contenga los datos a analizar.\n",
        "Crear el esquema de la base de datos y las tablas asociadas al proyecto.\n",
        "Definir las relaciones entre las tablas en caso de existir, así como las restricciones necesarias (claves primarias, etc.).\n",
        "Desarrollo de la interfaz en Python.\n",
        "Utilizar bibliotecas como 'mysql-connector-python' o 'SQLAlchemy' para conectarse a la base de datos MySQL desde Python.\n",
        "Implementar la solución en libreta jupyter notebook.\n",
        "Documentación y publicación en GitHub:\n",
        "Crear un repositorio en github y subir el código fuente del proyecto.\n",
        "Incluir un archivo README detallado con instrucciones para configurar la base de datos, instalar dependencias, y ejecutar el programa.\n",
        "Documentar el código con comentarios y proporcionar ejemplo de uso.*texto en cursiva*"
      ],
      "metadata": {
        "id": "M-BSihOfYplc"
      }
    },
    {
      "cell_type": "code",
      "source": [
        "import pandas as pd\n",
        "import sqlite3\n",
        "import chardet\n",
        "\"\"\"\n",
        "Comenzamos por conseguir las bases de datos\n",
        "\n",
        "\"\"\"\n",
        "#url_base_asesinatos='https://www.inegi.org.mx/sistemas/olap/proyectos/bd/continuas/mortalidad/defuncioneshom.asp#'\n",
        "#url_base_PIB='https://www.inegi.org.mx/temas/pib/#tabulados'\n",
        "\n",
        "\n",
        "\n",
        "df_22=pd.read_csv('/content/2022.txt',engine='python',encoding=encoding,delimiter='\\t')\n",
        "df_12=pd.read_csv('/content/2012.txt',engine='python',encoding=encoding,delimiter='\\t')\n",
        "df_02=pd.read_csv('/content/2002.txt',engine='python',encoding=encoding,delimiter='\\t')\n",
        "df_92=pd.read_csv('/content/1992.txt',engine='python',encoding=encoding,delimiter='\\t')\n",
        "\n",
        "df_22.info()\n",
        "\n",
        "#~~~~~~~~~~~~~~~~~~~~~~~~~~~~~~~~~~~~~~~~~~~~~~~~~~~~~~~~~~~~~~~~~~~~~\n"
      ],
      "metadata": {
        "colab": {
          "base_uri": "https://localhost:8080/"
        },
        "id": "1n5p8VdusWK7",
        "outputId": "a58cbda5-e95d-42e7-835d-5d7e910bf20d"
      },
      "execution_count": 25,
      "outputs": [
        {
          "output_type": "stream",
          "name": "stdout",
          "text": [
            "<class 'pandas.core.frame.DataFrame'>\n",
            "MultiIndex: 35 entries, (' ', ' ', ' Total', ' Hombre') to (' 99', ' No especificado', ' 450', ' 378')\n",
            "Data columns (total 2 columns):\n",
            " #   Column      Non-Null Count  Dtype \n",
            "---  ------      --------------  ----- \n",
            " 0   Unnamed: 0  35 non-null     object\n",
            " 1   Unnamed: 1  35 non-null     object\n",
            "dtypes: object(2)\n",
            "memory usage: 6.0+ KB\n"
          ]
        }
      ]
    },
    {
      "cell_type": "markdown",
      "source": [
        "Continuamos creando una base de datos apoyandonos de la librería 'sqlite3', y una vez creando las tres tablas 'sonora','sinaloa','jalisco'"
      ],
      "metadata": {
        "id": "zp8kYB3J7L-z"
      }
    },
    {
      "cell_type": "code",
      "source": [
        "connection = sqlite3.connect('defunciones.db')\n",
        "cursor = connection.cursor()\n",
        "\n",
        "query_2022='''CREATE TABLE IF NOT EXISTS homicidios_2022(\n",
        "                  id INTEGER PRIMARY KEY,\n",
        "                  estado VARCHAR(50),\n",
        "                  hombres INTEGER,\n",
        "                  mujeres INTEGER,\n",
        "                  total INTEGER)'''\n",
        "\n",
        "query_2012='''CREATE TABLE IF NOT EXISTS homicidios_2012(\n",
        "                  id INTEGER PRIMARY KEY,\n",
        "                  estado VARCHAR(50),\n",
        "                  hombres INTEGER,\n",
        "                  mujeres INTEGER,\n",
        "                  total INTEGER)'''\n",
        "\n",
        "query_2002='''CREATE TABLE IF NOT EXISTS homicidios_2002(\n",
        "                  id INTEGER PRIMARY KEY,\n",
        "                  estado VARCHAR(50),\n",
        "                  hombres INTEGER,\n",
        "                  mujeres INTEGER,\n",
        "                  total INTEGER)'''\n",
        "\n",
        "query_1992='''CREATE TABLE IF NOT EXISTS homicidios_1992(\n",
        "                  id INTEGER PRIMARY KEY,\n",
        "                  estado VARCHAR(50),\n",
        "                  hombres INTEGER,\n",
        "                  mujeres INTEGER,\n",
        "                  total INTEGER)'''\n",
        "\n",
        "#~~~~~~~~~~~~~~~~~~~~~~~~~~~~~~~~~~~~~~~~~~~~~~~~~~~~~~~~~~~~~~~~~~~~~\n",
        "cursor.execute(query_2022)\n",
        "cursor.execute(query_2012)\n",
        "cursor.execute(query_2002)\n",
        "cursor.execute(query_1992)\n",
        "\n",
        "\n",
        "\n",
        "connection.commit()"
      ],
      "metadata": {
        "id": "SKIbMdzI0Qq5"
      },
      "execution_count": 29,
      "outputs": []
    },
    {
      "cell_type": "code",
      "source": [],
      "metadata": {
        "id": "Pcj5zslD0QYw"
      },
      "execution_count": null,
      "outputs": []
    }
  ]
}